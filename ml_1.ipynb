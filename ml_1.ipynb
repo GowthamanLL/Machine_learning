{
  "metadata": {
    "kernelspec": {
      "language": "python",
      "display_name": "Python 3",
      "name": "python3"
    },
    "language_info": {
      "name": "python",
      "version": "3.10.12",
      "mimetype": "text/x-python",
      "codemirror_mode": {
        "name": "ipython",
        "version": 3
      },
      "pygments_lexer": "ipython3",
      "nbconvert_exporter": "python",
      "file_extension": ".py"
    },
    "kaggle": {
      "accelerator": "none",
      "dataSources": [
        {
          "sourceId": 67812,
          "databundleVersionId": 7523379,
          "sourceType": "competition"
        }
      ],
      "dockerImageVersionId": 30635,
      "isInternetEnabled": false,
      "language": "python",
      "sourceType": "notebook",
      "isGpuEnabled": false
    },
    "colab": {
      "provenance": []
    }
  },
  "nbformat_minor": 0,
  "nbformat": 4,
  "cells": [
    {
      "cell_type": "code",
      "source": [
        "# This Python 3 environment comes with many helpful analytics libraries installed\n",
        "# It is defined by the kaggle/python Docker image: https://github.com/kaggle/docker-python\n",
        "# For example, here's several helpful packages to load\n",
        "\n",
        "import numpy as np # linear algebra\n",
        "import pandas as pd # data processing, CSV file I/O (e.g. pd.read_csv)\n",
        "\n",
        "# Input data files are available in the read-only \"../input/\" directory\n",
        "# For example, running this (by clicking run or pressing Shift+Enter) will list all files under the input directory\n",
        "\n",
        "import os\n",
        "for dirname, _, filenames in os.walk('/kaggle/input'):\n",
        "    for filename in filenames:\n",
        "        print(os.path.join(dirname, filename))\n",
        "\n",
        "# You can write up to 20GB to the current directory (/kaggle/working/) that gets preserved as output when you create a version using \"Save & Run All\"\n",
        "# You can also write temporary files to /kaggle/temp/, but they won't be saved outside of the current session"
      ],
      "metadata": {
        "_uuid": "8f2839f25d086af736a60e9eeb907d3b93b6e0e5",
        "_cell_guid": "b1076dfc-b9ad-4769-8c92-a6c4dae69d19",
        "execution": {
          "iopub.status.busy": "2024-01-24T17:01:34.693212Z",
          "iopub.execute_input": "2024-01-24T17:01:34.694115Z",
          "iopub.status.idle": "2024-01-24T17:01:34.704425Z",
          "shell.execute_reply.started": "2024-01-24T17:01:34.694074Z",
          "shell.execute_reply": "2024-01-24T17:01:34.703206Z"
        },
        "trusted": true,
        "id": "DXHsua6cSMqt"
      },
      "execution_count": 29,
      "outputs": []
    },
    {
      "cell_type": "code",
      "source": [
        "train=pd.read_csv('/kaggle/input/machine-learning-basics-titanic-spaceship/train.csv')\n",
        "test=pd.read_csv('/kaggle/input/machine-learning-basics-titanic-spaceship/test.csv')\n",
        "data=pd.read_csv('/kaggle/input/machine-learning-basics-titanic-spaceship/sample_submission.csv')"
      ],
      "metadata": {
        "id": "MnxewLcZYnAM"
      },
      "execution_count": null,
      "outputs": []
    },
    {
      "cell_type": "code",
      "source": [
        "train.head()"
      ],
      "metadata": {
        "id": "7QbED0dTYpvl"
      },
      "execution_count": null,
      "outputs": []
    },
    {
      "cell_type": "code",
      "source": [
        "test.head()"
      ],
      "metadata": {
        "id": "Lrbd_GMuYtB7"
      },
      "execution_count": null,
      "outputs": []
    },
    {
      "cell_type": "code",
      "source": [
        "data.head()"
      ],
      "metadata": {
        "id": "U4U62gnGYuhY"
      },
      "execution_count": null,
      "outputs": []
    },
    {
      "cell_type": "code",
      "source": [
        "test=pd.merge(test,data,on='PassengerId')"
      ],
      "metadata": {
        "execution": {
          "iopub.status.busy": "2024-01-24T17:01:34.838998Z",
          "iopub.execute_input": "2024-01-24T17:01:34.839363Z",
          "iopub.status.idle": "2024-01-24T17:01:34.853935Z",
          "shell.execute_reply.started": "2024-01-24T17:01:34.839328Z",
          "shell.execute_reply": "2024-01-24T17:01:34.852556Z"
        },
        "trusted": true,
        "id": "8VVDN3u_SMqx"
      },
      "execution_count": 26,
      "outputs": []
    },
    {
      "cell_type": "code",
      "source": [
        "test.head()"
      ],
      "metadata": {
        "id": "bznohoO2YxHD"
      },
      "execution_count": null,
      "outputs": []
    },
    {
      "cell_type": "code",
      "source": [
        "train['HomePlanet'].unique()"
      ],
      "metadata": {
        "id": "LIRzzwTYYzDa"
      },
      "execution_count": null,
      "outputs": []
    },
    {
      "cell_type": "code",
      "source": [
        "train['Destination'].unique()"
      ],
      "metadata": {
        "execution": {
          "iopub.status.busy": "2024-01-24T17:01:34.892989Z",
          "iopub.execute_input": "2024-01-24T17:01:34.893699Z",
          "iopub.status.idle": "2024-01-24T17:01:34.903289Z",
          "shell.execute_reply.started": "2024-01-24T17:01:34.893477Z",
          "shell.execute_reply": "2024-01-24T17:01:34.902057Z"
        },
        "trusted": true,
        "id": "s1YMF9H4SMqy"
      },
      "execution_count": null,
      "outputs": []
    },
    {
      "cell_type": "code",
      "source": [
        "train['Cabin'].unique()"
      ],
      "metadata": {
        "execution": {
          "iopub.status.busy": "2024-01-24T17:01:34.904918Z",
          "iopub.execute_input": "2024-01-24T17:01:34.905293Z",
          "iopub.status.idle": "2024-01-24T17:01:34.916859Z",
          "shell.execute_reply.started": "2024-01-24T17:01:34.905260Z",
          "shell.execute_reply": "2024-01-24T17:01:34.915817Z"
        },
        "trusted": true,
        "id": "r-lnHfM1SMqy"
      },
      "execution_count": null,
      "outputs": []
    },
    {
      "cell_type": "code",
      "source": [
        "train.shape"
      ],
      "metadata": {
        "execution": {
          "iopub.status.busy": "2024-01-24T17:01:34.923110Z",
          "iopub.execute_input": "2024-01-24T17:01:34.923860Z",
          "iopub.status.idle": "2024-01-24T17:01:34.930815Z",
          "shell.execute_reply.started": "2024-01-24T17:01:34.923807Z",
          "shell.execute_reply": "2024-01-24T17:01:34.929359Z"
        },
        "trusted": true,
        "id": "HqzuICx-SMqy"
      },
      "execution_count": null,
      "outputs": []
    },
    {
      "cell_type": "code",
      "source": [
        "test.shape"
      ],
      "metadata": {
        "execution": {
          "iopub.status.busy": "2024-01-24T17:01:34.932317Z",
          "iopub.execute_input": "2024-01-24T17:01:34.932806Z",
          "iopub.status.idle": "2024-01-24T17:01:34.941752Z",
          "shell.execute_reply.started": "2024-01-24T17:01:34.932764Z",
          "shell.execute_reply": "2024-01-24T17:01:34.940200Z"
        },
        "trusted": true,
        "id": "SlvtjzUtSMqy"
      },
      "execution_count": null,
      "outputs": []
    },
    {
      "cell_type": "code",
      "source": [
        "train.isnull().sum()"
      ],
      "metadata": {
        "execution": {
          "iopub.status.busy": "2024-01-24T17:01:34.943278Z",
          "iopub.execute_input": "2024-01-24T17:01:34.944009Z",
          "iopub.status.idle": "2024-01-24T17:01:34.958711Z",
          "shell.execute_reply.started": "2024-01-24T17:01:34.943962Z",
          "shell.execute_reply": "2024-01-24T17:01:34.957385Z"
        },
        "trusted": true,
        "id": "dJBj7p87SMqz"
      },
      "execution_count": null,
      "outputs": []
    },
    {
      "cell_type": "code",
      "source": [
        "train=train.dropna()"
      ],
      "metadata": {
        "execution": {
          "iopub.status.busy": "2024-01-24T17:01:34.960495Z",
          "iopub.execute_input": "2024-01-24T17:01:34.960881Z",
          "iopub.status.idle": "2024-01-24T17:01:34.974925Z",
          "shell.execute_reply.started": "2024-01-24T17:01:34.960848Z",
          "shell.execute_reply": "2024-01-24T17:01:34.973495Z"
        },
        "trusted": true,
        "id": "ppVeK2y0SMqz"
      },
      "execution_count": null,
      "outputs": []
    },
    {
      "cell_type": "code",
      "source": [
        "train.isnull().sum()"
      ],
      "metadata": {
        "execution": {
          "iopub.status.busy": "2024-01-24T17:01:34.976301Z",
          "iopub.execute_input": "2024-01-24T17:01:34.977125Z",
          "iopub.status.idle": "2024-01-24T17:01:34.988268Z",
          "shell.execute_reply.started": "2024-01-24T17:01:34.977087Z",
          "shell.execute_reply": "2024-01-24T17:01:34.987346Z"
        },
        "trusted": true,
        "id": "-DWFh3a_SMqz"
      },
      "execution_count": null,
      "outputs": []
    },
    {
      "cell_type": "code",
      "source": [
        "from sklearn.preprocessing import LabelEncoder\n",
        "le=LabelEncoder()\n",
        "cols=['HomePlanet','CryoSleep','Destination','VIP','Transported']\n",
        "train[cols]=train[cols].apply(le.fit_transform)\n",
        "test[cols]=test[cols].apply(le.fit_transform)"
      ],
      "metadata": {
        "execution": {
          "iopub.status.busy": "2024-01-24T17:01:34.989838Z",
          "iopub.execute_input": "2024-01-24T17:01:34.990371Z",
          "iopub.status.idle": "2024-01-24T17:01:35.014858Z",
          "shell.execute_reply.started": "2024-01-24T17:01:34.990337Z",
          "shell.execute_reply": "2024-01-24T17:01:35.013968Z"
        },
        "trusted": true,
        "id": "V9uGZI14SMqz"
      },
      "execution_count": null,
      "outputs": []
    },
    {
      "cell_type": "code",
      "source": [
        "train.head()"
      ],
      "metadata": {
        "execution": {
          "iopub.status.busy": "2024-01-24T17:01:35.016221Z",
          "iopub.execute_input": "2024-01-24T17:01:35.016558Z",
          "iopub.status.idle": "2024-01-24T17:01:35.035760Z",
          "shell.execute_reply.started": "2024-01-24T17:01:35.016526Z",
          "shell.execute_reply": "2024-01-24T17:01:35.034635Z"
        },
        "trusted": true,
        "id": "FiKlHjarSMqz"
      },
      "execution_count": null,
      "outputs": []
    },
    {
      "cell_type": "code",
      "source": [
        "train=train.drop('Name',axis=1)\n",
        "test=test.drop('Name',axis=1)\n",
        "train=train.drop('PassengerId',axis=1)\n",
        "test=test.drop('PassengerId',axis=1)"
      ],
      "metadata": {
        "id": "8kjs1MpIY24T"
      },
      "execution_count": null,
      "outputs": []
    },
    {
      "cell_type": "code",
      "source": [
        "train.head()"
      ],
      "metadata": {
        "execution": {
          "iopub.status.busy": "2024-01-24T17:01:35.051491Z",
          "iopub.execute_input": "2024-01-24T17:01:35.051922Z",
          "iopub.status.idle": "2024-01-24T17:01:35.075047Z",
          "shell.execute_reply.started": "2024-01-24T17:01:35.051887Z",
          "shell.execute_reply": "2024-01-24T17:01:35.074170Z"
        },
        "trusted": true,
        "id": "n88tOc0JSMq0"
      },
      "execution_count": null,
      "outputs": []
    },
    {
      "cell_type": "code",
      "source": [
        "train=train.drop('Cabin',axis=1)\n",
        "test=test.drop('Cabin',axis=1)"
      ],
      "metadata": {
        "execution": {
          "iopub.status.busy": "2024-01-24T17:01:35.076444Z",
          "iopub.execute_input": "2024-01-24T17:01:35.076802Z",
          "iopub.status.idle": "2024-01-24T17:01:35.084503Z",
          "shell.execute_reply.started": "2024-01-24T17:01:35.076769Z",
          "shell.execute_reply": "2024-01-24T17:01:35.083339Z"
        },
        "trusted": true,
        "id": "5b-V5zeoSMq0"
      },
      "execution_count": null,
      "outputs": []
    },
    {
      "cell_type": "code",
      "source": [
        "train.head()"
      ],
      "metadata": {
        "execution": {
          "iopub.status.busy": "2024-01-24T17:01:35.086254Z",
          "iopub.execute_input": "2024-01-24T17:01:35.086932Z",
          "iopub.status.idle": "2024-01-24T17:01:35.107882Z",
          "shell.execute_reply.started": "2024-01-24T17:01:35.086887Z",
          "shell.execute_reply": "2024-01-24T17:01:35.106671Z"
        },
        "trusted": true,
        "id": "hox7nwZ6SMq0"
      },
      "execution_count": null,
      "outputs": []
    },
    {
      "cell_type": "code",
      "source": [
        "train=train.replace(True,1).replace(False,0)\n",
        "test=test.replace(True,1).replace(False,0)"
      ],
      "metadata": {
        "execution": {
          "iopub.status.busy": "2024-01-24T17:01:35.109821Z",
          "iopub.execute_input": "2024-01-24T17:01:35.110265Z",
          "iopub.status.idle": "2024-01-24T17:01:35.120589Z",
          "shell.execute_reply.started": "2024-01-24T17:01:35.110221Z",
          "shell.execute_reply": "2024-01-24T17:01:35.119532Z"
        },
        "trusted": true,
        "id": "oo61i74fSMq0"
      },
      "execution_count": null,
      "outputs": []
    },
    {
      "cell_type": "code",
      "source": [
        "train.head()"
      ],
      "metadata": {
        "execution": {
          "iopub.status.busy": "2024-01-24T17:01:35.121919Z",
          "iopub.execute_input": "2024-01-24T17:01:35.122461Z",
          "iopub.status.idle": "2024-01-24T17:01:35.143255Z",
          "shell.execute_reply.started": "2024-01-24T17:01:35.122424Z",
          "shell.execute_reply": "2024-01-24T17:01:35.142083Z"
        },
        "trusted": true,
        "id": "N35qSggOSMq0"
      },
      "execution_count": null,
      "outputs": []
    },
    {
      "cell_type": "code",
      "source": [
        "test=test.dropna()"
      ],
      "metadata": {
        "execution": {
          "iopub.status.busy": "2024-01-24T17:01:35.144830Z",
          "iopub.execute_input": "2024-01-24T17:01:35.145377Z",
          "iopub.status.idle": "2024-01-24T17:01:35.154057Z",
          "shell.execute_reply.started": "2024-01-24T17:01:35.145342Z",
          "shell.execute_reply": "2024-01-24T17:01:35.152810Z"
        },
        "trusted": true,
        "id": "SvPPGYWcSMq0"
      },
      "execution_count": null,
      "outputs": []
    },
    {
      "cell_type": "code",
      "source": [
        "x_train = train.drop('Transported',axis=1)\n",
        "y_train=train['Transported']\n",
        "x_test = test.drop('Transported',axis=1)\n",
        "y_test=test['Transported']"
      ],
      "metadata": {
        "execution": {
          "iopub.status.busy": "2024-01-24T17:01:35.155823Z",
          "iopub.execute_input": "2024-01-24T17:01:35.156391Z",
          "iopub.status.idle": "2024-01-24T17:01:35.165835Z",
          "shell.execute_reply.started": "2024-01-24T17:01:35.156348Z",
          "shell.execute_reply": "2024-01-24T17:01:35.164681Z"
        },
        "trusted": true,
        "id": "mjn9ofi0SMq1"
      },
      "execution_count": null,
      "outputs": []
    },
    {
      "cell_type": "code",
      "source": [
        "from sklearn.preprocessing import StandardScaler\n",
        "sc=StandardScaler()\n",
        "x_train=sc.fit_transform(x_train)\n",
        "x_test=sc.fit_transform(x_test)"
      ],
      "metadata": {
        "execution": {
          "iopub.status.busy": "2024-01-24T17:01:35.167304Z",
          "iopub.execute_input": "2024-01-24T17:01:35.168114Z",
          "iopub.status.idle": "2024-01-24T17:01:35.185565Z",
          "shell.execute_reply.started": "2024-01-24T17:01:35.168079Z",
          "shell.execute_reply": "2024-01-24T17:01:35.184650Z"
        },
        "trusted": true,
        "id": "JhQI4lwfSMq1"
      },
      "execution_count": null,
      "outputs": []
    },
    {
      "cell_type": "code",
      "source": [
        "x_train"
      ],
      "metadata": {
        "execution": {
          "iopub.status.busy": "2024-01-24T17:02:32.990629Z",
          "iopub.execute_input": "2024-01-24T17:02:32.991048Z",
          "iopub.status.idle": "2024-01-24T17:02:32.999327Z",
          "shell.execute_reply.started": "2024-01-24T17:02:32.991014Z",
          "shell.execute_reply": "2024-01-24T17:02:32.998017Z"
        },
        "trusted": true,
        "id": "HXtQVA9oSMq1"
      },
      "execution_count": null,
      "outputs": []
    },
    {
      "cell_type": "code",
      "source": [
        "from sklearn.ensemble import RandomForestClassifier\n",
        "model=RandomForestClassifier()\n",
        "model.fit(x_train,y_train)"
      ],
      "metadata": {
        "execution": {
          "iopub.status.busy": "2024-01-24T17:02:45.756700Z",
          "iopub.execute_input": "2024-01-24T17:02:45.757123Z",
          "iopub.status.idle": "2024-01-24T17:02:46.709802Z",
          "shell.execute_reply.started": "2024-01-24T17:02:45.757085Z",
          "shell.execute_reply": "2024-01-24T17:02:46.708519Z"
        },
        "trusted": true,
        "id": "nb5biP6LSMq1"
      },
      "execution_count": null,
      "outputs": []
    },
    {
      "cell_type": "code",
      "source": [
        "model.score(x_test,y_test)"
      ],
      "metadata": {
        "execution": {
          "iopub.status.busy": "2024-01-24T17:02:48.788778Z",
          "iopub.execute_input": "2024-01-24T17:02:48.789810Z",
          "iopub.status.idle": "2024-01-24T17:02:48.859684Z",
          "shell.execute_reply.started": "2024-01-24T17:02:48.789772Z",
          "shell.execute_reply": "2024-01-24T17:02:48.858572Z"
        },
        "trusted": true,
        "id": "g60kNIhGSMq1"
      },
      "execution_count": null,
      "outputs": []
    },
    {
      "cell_type": "code",
      "source": [
        "from sklearn.tree import DecisionTreeClassifier\n",
        "dc=DecisionTreeClassifier()\n",
        "dc.fit(x_train,y_train)"
      ],
      "metadata": {
        "execution": {
          "iopub.status.busy": "2024-01-24T17:02:51.348526Z",
          "iopub.execute_input": "2024-01-24T17:02:51.349082Z",
          "iopub.status.idle": "2024-01-24T17:02:51.388023Z",
          "shell.execute_reply.started": "2024-01-24T17:02:51.349039Z",
          "shell.execute_reply": "2024-01-24T17:02:51.386676Z"
        },
        "trusted": true,
        "id": "LP3TCMuASMq1"
      },
      "execution_count": null,
      "outputs": []
    },
    {
      "cell_type": "code",
      "source": [
        "dc.score(x_test,y_test)"
      ],
      "metadata": {
        "execution": {
          "iopub.status.busy": "2024-01-24T17:02:53.428566Z",
          "iopub.execute_input": "2024-01-24T17:02:53.428985Z",
          "iopub.status.idle": "2024-01-24T17:02:53.439937Z",
          "shell.execute_reply.started": "2024-01-24T17:02:53.428952Z",
          "shell.execute_reply": "2024-01-24T17:02:53.438446Z"
        },
        "trusted": true,
        "id": "p1Sfgb91SMq2"
      },
      "execution_count": null,
      "outputs": []
    },
    {
      "cell_type": "code",
      "source": [
        "import xgboost as xgb\n",
        "xg=xgb.XGBClassifier()\n",
        "xg.fit(x_train,y_train)"
      ],
      "metadata": {
        "execution": {
          "iopub.status.busy": "2024-01-24T17:02:55.476693Z",
          "iopub.execute_input": "2024-01-24T17:02:55.477073Z",
          "iopub.status.idle": "2024-01-24T17:02:55.625449Z",
          "shell.execute_reply.started": "2024-01-24T17:02:55.477043Z",
          "shell.execute_reply": "2024-01-24T17:02:55.624678Z"
        },
        "trusted": true,
        "id": "2M9Z3ld0SMq2"
      },
      "execution_count": null,
      "outputs": []
    },
    {
      "cell_type": "code",
      "source": [
        "xg.score(x_test,y_test)"
      ],
      "metadata": {
        "execution": {
          "iopub.status.busy": "2024-01-24T17:02:58.764624Z",
          "iopub.execute_input": "2024-01-24T17:02:58.765046Z",
          "iopub.status.idle": "2024-01-24T17:02:58.780766Z",
          "shell.execute_reply.started": "2024-01-24T17:02:58.765008Z",
          "shell.execute_reply": "2024-01-24T17:02:58.779474Z"
        },
        "trusted": true,
        "id": "UVAy2oLSSMq2"
      },
      "execution_count": null,
      "outputs": []
    }
  ]
}